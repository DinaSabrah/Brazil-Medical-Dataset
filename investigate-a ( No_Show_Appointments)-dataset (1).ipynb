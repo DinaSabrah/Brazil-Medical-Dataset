{
 "cells": [
  {
   "cell_type": "markdown",
   "metadata": {},
   "source": [
    "# Project: *Brazilian Medical Appointments*\n",
    "\n",
    "## Table of Contents:-\n",
    "<ul>\n",
    "<li><a href=\"#intro\">Introduction</a></li>\n",
    "<li><a href=\"#wrangling\">Data Wrangling</a></li>\n",
    "<li><a href=\"#eda\">Exploratory Data Analysis</a></li>\n",
    "<li><a href=\"#conclusions\">Conclusions</a></li>\n",
    "</ul>"
   ]
  },
  {
   "cell_type": "markdown",
   "metadata": {},
   "source": [
    "<a id='intro'></a>\n",
    "## Introduction\n",
    "we're going to explore a Brazilian medical data set for +100k patients having different ages, living in some regions in Brazil, some of the patients are hipertension, diabetec and alcoholism.\n",
    "Some of the patients have medical assistance called Bolsa familia; a social welfare aid program of the Government of Brazil, part of the Fome Zero network of federal assistance aid to poor Brazilian families; and if they had children, families must ensure that the children attend school and are vaccinated, Bolsa program has more activities as well.\n",
    "No-show column here has two entries; 'No' for patients who care about attending their medical scheduled appointments and 'Yes' for others who didn't attend their appointments.\n",
    "I think it's fine to know whether males or females care more about their health; attend more their medical appointments, since it's popular in most countries not only regions that females care more about their health.\n",
    "It's important to explore whom patients attend their medical appointments; hipertension, diabetec or alcoholism care more.\n",
    "Region affects patients attendance; maybe living in a specific region, perhaps its located near to the medical appointment region encourage them to attend more.\n",
    "Finally, i'm so curious to check if patients having Bolsa familia welfare aid encourages them to attend and care about their medical appointments."
   ]
  },
  {
   "cell_type": "code",
   "execution_count": 1,
   "metadata": {},
   "outputs": [],
   "source": [
    "#import packages needed to be used\n",
    "import pandas as pd\n",
    "import numpy as np\n",
    "import matplotlib.pyplot as plt\n",
    "import seaborn as sns\n",
    "#matplotlib magic line\n",
    "%matplotlib inline"
   ]
  },
  {
   "cell_type": "markdown",
   "metadata": {},
   "source": [
    "<a id='wrangling'></a>\n",
    "## Data Wrangling\n",
    "\n",
    "### General Properties"
   ]
  },
  {
   "cell_type": "code",
   "execution_count": 2,
   "metadata": {},
   "outputs": [
    {
     "data": {
      "text/html": [
       "<div>\n",
       "<style scoped>\n",
       "    .dataframe tbody tr th:only-of-type {\n",
       "        vertical-align: middle;\n",
       "    }\n",
       "\n",
       "    .dataframe tbody tr th {\n",
       "        vertical-align: top;\n",
       "    }\n",
       "\n",
       "    .dataframe thead th {\n",
       "        text-align: right;\n",
       "    }\n",
       "</style>\n",
       "<table border=\"1\" class=\"dataframe\">\n",
       "  <thead>\n",
       "    <tr style=\"text-align: right;\">\n",
       "      <th></th>\n",
       "      <th>AppointmentID</th>\n",
       "      <th>Gender</th>\n",
       "      <th>ScheduledDay</th>\n",
       "      <th>AppointmentDay</th>\n",
       "      <th>Age</th>\n",
       "      <th>Neighbourhood</th>\n",
       "      <th>Scholarship</th>\n",
       "      <th>Hipertension</th>\n",
       "      <th>Diabetes</th>\n",
       "      <th>Alcoholism</th>\n",
       "      <th>Handcap</th>\n",
       "      <th>SMS_received</th>\n",
       "      <th>No-show</th>\n",
       "    </tr>\n",
       "    <tr>\n",
       "      <th>PatientId</th>\n",
       "      <th></th>\n",
       "      <th></th>\n",
       "      <th></th>\n",
       "      <th></th>\n",
       "      <th></th>\n",
       "      <th></th>\n",
       "      <th></th>\n",
       "      <th></th>\n",
       "      <th></th>\n",
       "      <th></th>\n",
       "      <th></th>\n",
       "      <th></th>\n",
       "      <th></th>\n",
       "    </tr>\n",
       "  </thead>\n",
       "  <tbody>\n",
       "    <tr>\n",
       "      <th>2.987250e+13</th>\n",
       "      <td>5642903</td>\n",
       "      <td>F</td>\n",
       "      <td>2016-04-29T18:38:08Z</td>\n",
       "      <td>2016-04-29T00:00:00Z</td>\n",
       "      <td>62</td>\n",
       "      <td>JARDIM DA PENHA</td>\n",
       "      <td>0</td>\n",
       "      <td>1</td>\n",
       "      <td>0</td>\n",
       "      <td>0</td>\n",
       "      <td>0</td>\n",
       "      <td>0</td>\n",
       "      <td>No</td>\n",
       "    </tr>\n",
       "    <tr>\n",
       "      <th>5.589978e+14</th>\n",
       "      <td>5642503</td>\n",
       "      <td>M</td>\n",
       "      <td>2016-04-29T16:08:27Z</td>\n",
       "      <td>2016-04-29T00:00:00Z</td>\n",
       "      <td>56</td>\n",
       "      <td>JARDIM DA PENHA</td>\n",
       "      <td>0</td>\n",
       "      <td>0</td>\n",
       "      <td>0</td>\n",
       "      <td>0</td>\n",
       "      <td>0</td>\n",
       "      <td>0</td>\n",
       "      <td>No</td>\n",
       "    </tr>\n",
       "    <tr>\n",
       "      <th>4.262962e+12</th>\n",
       "      <td>5642549</td>\n",
       "      <td>F</td>\n",
       "      <td>2016-04-29T16:19:04Z</td>\n",
       "      <td>2016-04-29T00:00:00Z</td>\n",
       "      <td>62</td>\n",
       "      <td>MATA DA PRAIA</td>\n",
       "      <td>0</td>\n",
       "      <td>0</td>\n",
       "      <td>0</td>\n",
       "      <td>0</td>\n",
       "      <td>0</td>\n",
       "      <td>0</td>\n",
       "      <td>No</td>\n",
       "    </tr>\n",
       "  </tbody>\n",
       "</table>\n",
       "</div>"
      ],
      "text/plain": [
       "              AppointmentID Gender          ScheduledDay  \\\n",
       "PatientId                                                  \n",
       "2.987250e+13        5642903      F  2016-04-29T18:38:08Z   \n",
       "5.589978e+14        5642503      M  2016-04-29T16:08:27Z   \n",
       "4.262962e+12        5642549      F  2016-04-29T16:19:04Z   \n",
       "\n",
       "                    AppointmentDay  Age    Neighbourhood  Scholarship  \\\n",
       "PatientId                                                               \n",
       "2.987250e+13  2016-04-29T00:00:00Z   62  JARDIM DA PENHA            0   \n",
       "5.589978e+14  2016-04-29T00:00:00Z   56  JARDIM DA PENHA            0   \n",
       "4.262962e+12  2016-04-29T00:00:00Z   62    MATA DA PRAIA            0   \n",
       "\n",
       "              Hipertension  Diabetes  Alcoholism  Handcap  SMS_received  \\\n",
       "PatientId                                                                 \n",
       "2.987250e+13             1         0           0        0             0   \n",
       "5.589978e+14             0         0           0        0             0   \n",
       "4.262962e+12             0         0           0        0             0   \n",
       "\n",
       "             No-show  \n",
       "PatientId             \n",
       "2.987250e+13      No  \n",
       "5.589978e+14      No  \n",
       "4.262962e+12      No  "
      ]
     },
     "execution_count": 2,
     "metadata": {},
     "output_type": "execute_result"
    }
   ],
   "source": [
    "# Load data with pandas from no show appointments csv file\n",
    "df = pd.read_csv('noshowappointments-kagglev2-may-2016.csv', index_col=0)\n",
    "# Display first 3 rows from our dataframe\n",
    "df.head(3)"
   ]
  },
  {
   "cell_type": "markdown",
   "metadata": {},
   "source": [
    "## Data Cleaning; ***leads to accurate results & visualizations:***"
   ]
  },
  {
   "cell_type": "markdown",
   "metadata": {},
   "source": [
    "It's clear from the above three rows, that the two columns (Handcap & SMS_received) can be dropped; no need for them in our dataset."
   ]
  },
  {
   "cell_type": "code",
   "execution_count": 3,
   "metadata": {},
   "outputs": [],
   "source": [
    "# Remove the two useless cols\n",
    "df.drop(['Handcap', 'SMS_received'], inplace=True, axis=1)"
   ]
  },
  {
   "cell_type": "code",
   "execution_count": 4,
   "metadata": {},
   "outputs": [
    {
     "data": {
      "text/html": [
       "<div>\n",
       "<style scoped>\n",
       "    .dataframe tbody tr th:only-of-type {\n",
       "        vertical-align: middle;\n",
       "    }\n",
       "\n",
       "    .dataframe tbody tr th {\n",
       "        vertical-align: top;\n",
       "    }\n",
       "\n",
       "    .dataframe thead th {\n",
       "        text-align: right;\n",
       "    }\n",
       "</style>\n",
       "<table border=\"1\" class=\"dataframe\">\n",
       "  <thead>\n",
       "    <tr style=\"text-align: right;\">\n",
       "      <th></th>\n",
       "      <th>AppointmentID</th>\n",
       "      <th>Gender</th>\n",
       "      <th>ScheduledDay</th>\n",
       "      <th>AppointmentDay</th>\n",
       "      <th>Age</th>\n",
       "      <th>Neighbourhood</th>\n",
       "      <th>Scholarship</th>\n",
       "      <th>Hipertension</th>\n",
       "      <th>Diabetes</th>\n",
       "      <th>Alcoholism</th>\n",
       "      <th>No-show</th>\n",
       "    </tr>\n",
       "    <tr>\n",
       "      <th>PatientId</th>\n",
       "      <th></th>\n",
       "      <th></th>\n",
       "      <th></th>\n",
       "      <th></th>\n",
       "      <th></th>\n",
       "      <th></th>\n",
       "      <th></th>\n",
       "      <th></th>\n",
       "      <th></th>\n",
       "      <th></th>\n",
       "      <th></th>\n",
       "    </tr>\n",
       "  </thead>\n",
       "  <tbody>\n",
       "    <tr>\n",
       "      <th>2.987250e+13</th>\n",
       "      <td>5642903</td>\n",
       "      <td>F</td>\n",
       "      <td>2016-04-29T18:38:08Z</td>\n",
       "      <td>2016-04-29T00:00:00Z</td>\n",
       "      <td>62</td>\n",
       "      <td>JARDIM DA PENHA</td>\n",
       "      <td>0</td>\n",
       "      <td>1</td>\n",
       "      <td>0</td>\n",
       "      <td>0</td>\n",
       "      <td>No</td>\n",
       "    </tr>\n",
       "    <tr>\n",
       "      <th>5.589978e+14</th>\n",
       "      <td>5642503</td>\n",
       "      <td>M</td>\n",
       "      <td>2016-04-29T16:08:27Z</td>\n",
       "      <td>2016-04-29T00:00:00Z</td>\n",
       "      <td>56</td>\n",
       "      <td>JARDIM DA PENHA</td>\n",
       "      <td>0</td>\n",
       "      <td>0</td>\n",
       "      <td>0</td>\n",
       "      <td>0</td>\n",
       "      <td>No</td>\n",
       "    </tr>\n",
       "  </tbody>\n",
       "</table>\n",
       "</div>"
      ],
      "text/plain": [
       "              AppointmentID Gender          ScheduledDay  \\\n",
       "PatientId                                                  \n",
       "2.987250e+13        5642903      F  2016-04-29T18:38:08Z   \n",
       "5.589978e+14        5642503      M  2016-04-29T16:08:27Z   \n",
       "\n",
       "                    AppointmentDay  Age    Neighbourhood  Scholarship  \\\n",
       "PatientId                                                               \n",
       "2.987250e+13  2016-04-29T00:00:00Z   62  JARDIM DA PENHA            0   \n",
       "5.589978e+14  2016-04-29T00:00:00Z   56  JARDIM DA PENHA            0   \n",
       "\n",
       "              Hipertension  Diabetes  Alcoholism No-show  \n",
       "PatientId                                                 \n",
       "2.987250e+13             1         0           0      No  \n",
       "5.589978e+14             0         0           0      No  "
      ]
     },
     "execution_count": 4,
     "metadata": {},
     "output_type": "execute_result"
    }
   ],
   "source": [
    "# Display first two rows to be sure that the unnecessary two columns removed\n",
    "df.head(2)"
   ]
  },
  {
   "cell_type": "markdown",
   "metadata": {},
   "source": [
    "It's inconsistent to have a column named scholarship relates to Bolsa Familia welfare program medical assistance; we've to change it to be consistent such as medical assistance col name: "
   ]
  },
  {
   "cell_type": "code",
   "execution_count": 5,
   "metadata": {},
   "outputs": [
    {
     "data": {
      "text/html": [
       "<div>\n",
       "<style scoped>\n",
       "    .dataframe tbody tr th:only-of-type {\n",
       "        vertical-align: middle;\n",
       "    }\n",
       "\n",
       "    .dataframe tbody tr th {\n",
       "        vertical-align: top;\n",
       "    }\n",
       "\n",
       "    .dataframe thead th {\n",
       "        text-align: right;\n",
       "    }\n",
       "</style>\n",
       "<table border=\"1\" class=\"dataframe\">\n",
       "  <thead>\n",
       "    <tr style=\"text-align: right;\">\n",
       "      <th></th>\n",
       "      <th>AppointmentID</th>\n",
       "      <th>Gender</th>\n",
       "      <th>ScheduledDay</th>\n",
       "      <th>AppointmentDay</th>\n",
       "      <th>Age</th>\n",
       "      <th>Neighbourhood</th>\n",
       "      <th>MedicalAssistance</th>\n",
       "      <th>Hipertension</th>\n",
       "      <th>Diabetes</th>\n",
       "      <th>Alcoholism</th>\n",
       "      <th>No-show</th>\n",
       "    </tr>\n",
       "    <tr>\n",
       "      <th>PatientId</th>\n",
       "      <th></th>\n",
       "      <th></th>\n",
       "      <th></th>\n",
       "      <th></th>\n",
       "      <th></th>\n",
       "      <th></th>\n",
       "      <th></th>\n",
       "      <th></th>\n",
       "      <th></th>\n",
       "      <th></th>\n",
       "      <th></th>\n",
       "    </tr>\n",
       "  </thead>\n",
       "  <tbody>\n",
       "    <tr>\n",
       "      <th>2.987250e+13</th>\n",
       "      <td>5642903</td>\n",
       "      <td>F</td>\n",
       "      <td>2016-04-29T18:38:08Z</td>\n",
       "      <td>2016-04-29T00:00:00Z</td>\n",
       "      <td>62</td>\n",
       "      <td>JARDIM DA PENHA</td>\n",
       "      <td>0</td>\n",
       "      <td>1</td>\n",
       "      <td>0</td>\n",
       "      <td>0</td>\n",
       "      <td>No</td>\n",
       "    </tr>\n",
       "    <tr>\n",
       "      <th>5.589978e+14</th>\n",
       "      <td>5642503</td>\n",
       "      <td>M</td>\n",
       "      <td>2016-04-29T16:08:27Z</td>\n",
       "      <td>2016-04-29T00:00:00Z</td>\n",
       "      <td>56</td>\n",
       "      <td>JARDIM DA PENHA</td>\n",
       "      <td>0</td>\n",
       "      <td>0</td>\n",
       "      <td>0</td>\n",
       "      <td>0</td>\n",
       "      <td>No</td>\n",
       "    </tr>\n",
       "  </tbody>\n",
       "</table>\n",
       "</div>"
      ],
      "text/plain": [
       "              AppointmentID Gender          ScheduledDay  \\\n",
       "PatientId                                                  \n",
       "2.987250e+13        5642903      F  2016-04-29T18:38:08Z   \n",
       "5.589978e+14        5642503      M  2016-04-29T16:08:27Z   \n",
       "\n",
       "                    AppointmentDay  Age    Neighbourhood  MedicalAssistance  \\\n",
       "PatientId                                                                     \n",
       "2.987250e+13  2016-04-29T00:00:00Z   62  JARDIM DA PENHA                  0   \n",
       "5.589978e+14  2016-04-29T00:00:00Z   56  JARDIM DA PENHA                  0   \n",
       "\n",
       "              Hipertension  Diabetes  Alcoholism No-show  \n",
       "PatientId                                                 \n",
       "2.987250e+13             1         0           0      No  \n",
       "5.589978e+14             0         0           0      No  "
      ]
     },
     "execution_count": 5,
     "metadata": {},
     "output_type": "execute_result"
    }
   ],
   "source": [
    "# Rename Scholarship col name to medical_assistance col name to be consistent to the medical data set\n",
    "df = df.rename(columns={'Scholarship':'MedicalAssistance'})\n",
    "# Display first two rows; to assert that col name changed to more consistent name\n",
    "df.head(2)"
   ]
  },
  {
   "cell_type": "code",
   "execution_count": 6,
   "metadata": {},
   "outputs": [
    {
     "name": "stdout",
     "output_type": "stream",
     "text": [
      "<class 'pandas.core.frame.DataFrame'>\n",
      "Float64Index: 110527 entries, 29872499824296.0 to 377511518121127.0\n",
      "Data columns (total 11 columns):\n",
      " #   Column             Non-Null Count   Dtype \n",
      "---  ------             --------------   ----- \n",
      " 0   AppointmentID      110527 non-null  int64 \n",
      " 1   Gender             110527 non-null  object\n",
      " 2   ScheduledDay       110527 non-null  object\n",
      " 3   AppointmentDay     110527 non-null  object\n",
      " 4   Age                110527 non-null  int64 \n",
      " 5   Neighbourhood      110527 non-null  object\n",
      " 6   MedicalAssistance  110527 non-null  int64 \n",
      " 7   Hipertension       110527 non-null  int64 \n",
      " 8   Diabetes           110527 non-null  int64 \n",
      " 9   Alcoholism         110527 non-null  int64 \n",
      " 10  No-show            110527 non-null  object\n",
      "dtypes: int64(6), object(5)\n",
      "memory usage: 10.1+ MB\n"
     ]
    }
   ],
   "source": [
    "# Get some info about our brazilian medical dataset; assert from columns data types\n",
    "df.info()"
   ]
  },
  {
   "cell_type": "markdown",
   "metadata": {},
   "source": [
    "we found Appointment & Scheduled days having strings data types, it's better to convert them to dates:"
   ]
  },
  {
   "cell_type": "code",
   "execution_count": 7,
   "metadata": {
    "scrolled": true
   },
   "outputs": [
    {
     "name": "stdout",
     "output_type": "stream",
     "text": [
      "<class 'pandas.core.frame.DataFrame'>\n",
      "Float64Index: 110527 entries, 29872499824296.0 to 377511518121127.0\n",
      "Data columns (total 11 columns):\n",
      " #   Column             Non-Null Count   Dtype              \n",
      "---  ------             --------------   -----              \n",
      " 0   AppointmentID      110527 non-null  int64              \n",
      " 1   Gender             110527 non-null  object             \n",
      " 2   ScheduledDay       110527 non-null  datetime64[ns, UTC]\n",
      " 3   AppointmentDay     110527 non-null  datetime64[ns, UTC]\n",
      " 4   Age                110527 non-null  int64              \n",
      " 5   Neighbourhood      110527 non-null  object             \n",
      " 6   MedicalAssistance  110527 non-null  int64              \n",
      " 7   Hipertension       110527 non-null  int64              \n",
      " 8   Diabetes           110527 non-null  int64              \n",
      " 9   Alcoholism         110527 non-null  int64              \n",
      " 10  No-show            110527 non-null  object             \n",
      "dtypes: datetime64[ns, UTC](2), int64(6), object(3)\n",
      "memory usage: 10.1+ MB\n"
     ]
    }
   ],
   "source": [
    "# convert AppointmentDay & ScheduledDay columns to dates\n",
    "df['AppointmentDay'] = pd.to_datetime(df['AppointmentDay'])\n",
    "df['ScheduledDay'] = pd.to_datetime(df['ScheduledDay'])\n",
    "# confirm that the above two cols have been changed from strings to dates\n",
    "df.info()"
   ]
  },
  {
   "cell_type": "code",
   "execution_count": 8,
   "metadata": {},
   "outputs": [
    {
     "data": {
      "text/plain": [
       "(110527, 11)"
      ]
     },
     "execution_count": 8,
     "metadata": {},
     "output_type": "execute_result"
    }
   ],
   "source": [
    "df.shape"
   ]
  },
  {
   "cell_type": "markdown",
   "metadata": {},
   "source": [
    "In this Brazilian medical dataset; we've +100k rows & 11 columns."
   ]
  },
  {
   "cell_type": "code",
   "execution_count": 9,
   "metadata": {},
   "outputs": [
    {
     "data": {
      "text/html": [
       "<div>\n",
       "<style scoped>\n",
       "    .dataframe tbody tr th:only-of-type {\n",
       "        vertical-align: middle;\n",
       "    }\n",
       "\n",
       "    .dataframe tbody tr th {\n",
       "        vertical-align: top;\n",
       "    }\n",
       "\n",
       "    .dataframe thead th {\n",
       "        text-align: right;\n",
       "    }\n",
       "</style>\n",
       "<table border=\"1\" class=\"dataframe\">\n",
       "  <thead>\n",
       "    <tr style=\"text-align: right;\">\n",
       "      <th></th>\n",
       "      <th>AppointmentID</th>\n",
       "      <th>Age</th>\n",
       "      <th>MedicalAssistance</th>\n",
       "      <th>Hipertension</th>\n",
       "      <th>Diabetes</th>\n",
       "      <th>Alcoholism</th>\n",
       "    </tr>\n",
       "  </thead>\n",
       "  <tbody>\n",
       "    <tr>\n",
       "      <th>count</th>\n",
       "      <td>1.105270e+05</td>\n",
       "      <td>110527.000000</td>\n",
       "      <td>110527.000000</td>\n",
       "      <td>110527.000000</td>\n",
       "      <td>110527.000000</td>\n",
       "      <td>110527.000000</td>\n",
       "    </tr>\n",
       "    <tr>\n",
       "      <th>mean</th>\n",
       "      <td>5.675305e+06</td>\n",
       "      <td>37.088874</td>\n",
       "      <td>0.098266</td>\n",
       "      <td>0.197246</td>\n",
       "      <td>0.071865</td>\n",
       "      <td>0.030400</td>\n",
       "    </tr>\n",
       "    <tr>\n",
       "      <th>std</th>\n",
       "      <td>7.129575e+04</td>\n",
       "      <td>23.110205</td>\n",
       "      <td>0.297675</td>\n",
       "      <td>0.397921</td>\n",
       "      <td>0.258265</td>\n",
       "      <td>0.171686</td>\n",
       "    </tr>\n",
       "    <tr>\n",
       "      <th>min</th>\n",
       "      <td>5.030230e+06</td>\n",
       "      <td>-1.000000</td>\n",
       "      <td>0.000000</td>\n",
       "      <td>0.000000</td>\n",
       "      <td>0.000000</td>\n",
       "      <td>0.000000</td>\n",
       "    </tr>\n",
       "    <tr>\n",
       "      <th>25%</th>\n",
       "      <td>5.640286e+06</td>\n",
       "      <td>18.000000</td>\n",
       "      <td>0.000000</td>\n",
       "      <td>0.000000</td>\n",
       "      <td>0.000000</td>\n",
       "      <td>0.000000</td>\n",
       "    </tr>\n",
       "    <tr>\n",
       "      <th>50%</th>\n",
       "      <td>5.680573e+06</td>\n",
       "      <td>37.000000</td>\n",
       "      <td>0.000000</td>\n",
       "      <td>0.000000</td>\n",
       "      <td>0.000000</td>\n",
       "      <td>0.000000</td>\n",
       "    </tr>\n",
       "    <tr>\n",
       "      <th>75%</th>\n",
       "      <td>5.725524e+06</td>\n",
       "      <td>55.000000</td>\n",
       "      <td>0.000000</td>\n",
       "      <td>0.000000</td>\n",
       "      <td>0.000000</td>\n",
       "      <td>0.000000</td>\n",
       "    </tr>\n",
       "    <tr>\n",
       "      <th>max</th>\n",
       "      <td>5.790484e+06</td>\n",
       "      <td>115.000000</td>\n",
       "      <td>1.000000</td>\n",
       "      <td>1.000000</td>\n",
       "      <td>1.000000</td>\n",
       "      <td>1.000000</td>\n",
       "    </tr>\n",
       "  </tbody>\n",
       "</table>\n",
       "</div>"
      ],
      "text/plain": [
       "       AppointmentID            Age  MedicalAssistance   Hipertension  \\\n",
       "count   1.105270e+05  110527.000000      110527.000000  110527.000000   \n",
       "mean    5.675305e+06      37.088874           0.098266       0.197246   \n",
       "std     7.129575e+04      23.110205           0.297675       0.397921   \n",
       "min     5.030230e+06      -1.000000           0.000000       0.000000   \n",
       "25%     5.640286e+06      18.000000           0.000000       0.000000   \n",
       "50%     5.680573e+06      37.000000           0.000000       0.000000   \n",
       "75%     5.725524e+06      55.000000           0.000000       0.000000   \n",
       "max     5.790484e+06     115.000000           1.000000       1.000000   \n",
       "\n",
       "            Diabetes     Alcoholism  \n",
       "count  110527.000000  110527.000000  \n",
       "mean        0.071865       0.030400  \n",
       "std         0.258265       0.171686  \n",
       "min         0.000000       0.000000  \n",
       "25%         0.000000       0.000000  \n",
       "50%         0.000000       0.000000  \n",
       "75%         0.000000       0.000000  \n",
       "max         1.000000       1.000000  "
      ]
     },
     "execution_count": 9,
     "metadata": {},
     "output_type": "execute_result"
    }
   ],
   "source": [
    "# computing some summary statistics for numerical columns may be useful\n",
    "df.describe()"
   ]
  },
  {
   "cell_type": "markdown",
   "metadata": {},
   "source": [
    "Here, we have a maximuim age equals 115 years!!,ok it's fine but it's impossible to have a min age written in negative, sure data needs to be cleaned; our data contains human errors while typing it."
   ]
  },
  {
   "cell_type": "code",
   "execution_count": 10,
   "metadata": {},
   "outputs": [
    {
     "data": {
      "text/html": [
       "<div>\n",
       "<style scoped>\n",
       "    .dataframe tbody tr th:only-of-type {\n",
       "        vertical-align: middle;\n",
       "    }\n",
       "\n",
       "    .dataframe tbody tr th {\n",
       "        vertical-align: top;\n",
       "    }\n",
       "\n",
       "    .dataframe thead th {\n",
       "        text-align: right;\n",
       "    }\n",
       "</style>\n",
       "<table border=\"1\" class=\"dataframe\">\n",
       "  <thead>\n",
       "    <tr style=\"text-align: right;\">\n",
       "      <th></th>\n",
       "      <th>AppointmentID</th>\n",
       "      <th>Gender</th>\n",
       "      <th>ScheduledDay</th>\n",
       "      <th>AppointmentDay</th>\n",
       "      <th>Age</th>\n",
       "      <th>Neighbourhood</th>\n",
       "      <th>MedicalAssistance</th>\n",
       "      <th>Hipertension</th>\n",
       "      <th>Diabetes</th>\n",
       "      <th>Alcoholism</th>\n",
       "      <th>No-show</th>\n",
       "    </tr>\n",
       "    <tr>\n",
       "      <th>PatientId</th>\n",
       "      <th></th>\n",
       "      <th></th>\n",
       "      <th></th>\n",
       "      <th></th>\n",
       "      <th></th>\n",
       "      <th></th>\n",
       "      <th></th>\n",
       "      <th></th>\n",
       "      <th></th>\n",
       "      <th></th>\n",
       "      <th></th>\n",
       "    </tr>\n",
       "  </thead>\n",
       "  <tbody>\n",
       "    <tr>\n",
       "      <th>7.184428e+13</th>\n",
       "      <td>5638545</td>\n",
       "      <td>F</td>\n",
       "      <td>2016-04-29 08:08:43+00:00</td>\n",
       "      <td>2016-04-29 00:00:00+00:00</td>\n",
       "      <td>0</td>\n",
       "      <td>CONQUISTA</td>\n",
       "      <td>0</td>\n",
       "      <td>0</td>\n",
       "      <td>0</td>\n",
       "      <td>0</td>\n",
       "      <td>No</td>\n",
       "    </tr>\n",
       "    <tr>\n",
       "      <th>2.366233e+14</th>\n",
       "      <td>5628286</td>\n",
       "      <td>M</td>\n",
       "      <td>2016-04-27 10:46:12+00:00</td>\n",
       "      <td>2016-04-29 00:00:00+00:00</td>\n",
       "      <td>0</td>\n",
       "      <td>SÃO BENEDITO</td>\n",
       "      <td>0</td>\n",
       "      <td>0</td>\n",
       "      <td>0</td>\n",
       "      <td>0</td>\n",
       "      <td>No</td>\n",
       "    </tr>\n",
       "    <tr>\n",
       "      <th>1.885174e+14</th>\n",
       "      <td>5616082</td>\n",
       "      <td>M</td>\n",
       "      <td>2016-04-25 13:28:21+00:00</td>\n",
       "      <td>2016-04-29 00:00:00+00:00</td>\n",
       "      <td>0</td>\n",
       "      <td>ILHA DAS CAIEIRAS</td>\n",
       "      <td>0</td>\n",
       "      <td>0</td>\n",
       "      <td>0</td>\n",
       "      <td>0</td>\n",
       "      <td>No</td>\n",
       "    </tr>\n",
       "    <tr>\n",
       "      <th>2.718818e+14</th>\n",
       "      <td>5628321</td>\n",
       "      <td>M</td>\n",
       "      <td>2016-04-27 10:48:50+00:00</td>\n",
       "      <td>2016-04-29 00:00:00+00:00</td>\n",
       "      <td>0</td>\n",
       "      <td>CONQUISTA</td>\n",
       "      <td>0</td>\n",
       "      <td>0</td>\n",
       "      <td>0</td>\n",
       "      <td>0</td>\n",
       "      <td>No</td>\n",
       "    </tr>\n",
       "    <tr>\n",
       "      <th>8.647128e+13</th>\n",
       "      <td>5639264</td>\n",
       "      <td>F</td>\n",
       "      <td>2016-04-29 08:53:02+00:00</td>\n",
       "      <td>2016-04-29 00:00:00+00:00</td>\n",
       "      <td>0</td>\n",
       "      <td>NOVA PALESTINA</td>\n",
       "      <td>0</td>\n",
       "      <td>0</td>\n",
       "      <td>0</td>\n",
       "      <td>0</td>\n",
       "      <td>No</td>\n",
       "    </tr>\n",
       "    <tr>\n",
       "      <th>...</th>\n",
       "      <td>...</td>\n",
       "      <td>...</td>\n",
       "      <td>...</td>\n",
       "      <td>...</td>\n",
       "      <td>...</td>\n",
       "      <td>...</td>\n",
       "      <td>...</td>\n",
       "      <td>...</td>\n",
       "      <td>...</td>\n",
       "      <td>...</td>\n",
       "      <td>...</td>\n",
       "    </tr>\n",
       "    <tr>\n",
       "      <th>1.473952e+14</th>\n",
       "      <td>5702537</td>\n",
       "      <td>F</td>\n",
       "      <td>2016-05-16 12:30:58+00:00</td>\n",
       "      <td>2016-06-01 00:00:00+00:00</td>\n",
       "      <td>0</td>\n",
       "      <td>RESISTÊNCIA</td>\n",
       "      <td>0</td>\n",
       "      <td>0</td>\n",
       "      <td>0</td>\n",
       "      <td>0</td>\n",
       "      <td>No</td>\n",
       "    </tr>\n",
       "    <tr>\n",
       "      <th>5.577525e+12</th>\n",
       "      <td>5777724</td>\n",
       "      <td>M</td>\n",
       "      <td>2016-06-06 14:22:34+00:00</td>\n",
       "      <td>2016-06-08 00:00:00+00:00</td>\n",
       "      <td>0</td>\n",
       "      <td>RESISTÊNCIA</td>\n",
       "      <td>0</td>\n",
       "      <td>0</td>\n",
       "      <td>0</td>\n",
       "      <td>0</td>\n",
       "      <td>No</td>\n",
       "    </tr>\n",
       "    <tr>\n",
       "      <th>6.142460e+11</th>\n",
       "      <td>5772400</td>\n",
       "      <td>F</td>\n",
       "      <td>2016-06-03 15:18:44+00:00</td>\n",
       "      <td>2016-06-03 00:00:00+00:00</td>\n",
       "      <td>0</td>\n",
       "      <td>RESISTÊNCIA</td>\n",
       "      <td>0</td>\n",
       "      <td>0</td>\n",
       "      <td>0</td>\n",
       "      <td>0</td>\n",
       "      <td>No</td>\n",
       "    </tr>\n",
       "    <tr>\n",
       "      <th>4.321846e+13</th>\n",
       "      <td>5769545</td>\n",
       "      <td>F</td>\n",
       "      <td>2016-06-03 08:56:51+00:00</td>\n",
       "      <td>2016-06-03 00:00:00+00:00</td>\n",
       "      <td>0</td>\n",
       "      <td>RESISTÊNCIA</td>\n",
       "      <td>0</td>\n",
       "      <td>0</td>\n",
       "      <td>0</td>\n",
       "      <td>0</td>\n",
       "      <td>No</td>\n",
       "    </tr>\n",
       "    <tr>\n",
       "      <th>4.769462e+14</th>\n",
       "      <td>5786918</td>\n",
       "      <td>F</td>\n",
       "      <td>2016-06-08 09:04:18+00:00</td>\n",
       "      <td>2016-06-08 00:00:00+00:00</td>\n",
       "      <td>0</td>\n",
       "      <td>MARIA ORTIZ</td>\n",
       "      <td>0</td>\n",
       "      <td>0</td>\n",
       "      <td>0</td>\n",
       "      <td>0</td>\n",
       "      <td>No</td>\n",
       "    </tr>\n",
       "  </tbody>\n",
       "</table>\n",
       "<p>3540 rows × 11 columns</p>\n",
       "</div>"
      ],
      "text/plain": [
       "              AppointmentID Gender              ScheduledDay  \\\n",
       "PatientId                                                      \n",
       "7.184428e+13        5638545      F 2016-04-29 08:08:43+00:00   \n",
       "2.366233e+14        5628286      M 2016-04-27 10:46:12+00:00   \n",
       "1.885174e+14        5616082      M 2016-04-25 13:28:21+00:00   \n",
       "2.718818e+14        5628321      M 2016-04-27 10:48:50+00:00   \n",
       "8.647128e+13        5639264      F 2016-04-29 08:53:02+00:00   \n",
       "...                     ...    ...                       ...   \n",
       "1.473952e+14        5702537      F 2016-05-16 12:30:58+00:00   \n",
       "5.577525e+12        5777724      M 2016-06-06 14:22:34+00:00   \n",
       "6.142460e+11        5772400      F 2016-06-03 15:18:44+00:00   \n",
       "4.321846e+13        5769545      F 2016-06-03 08:56:51+00:00   \n",
       "4.769462e+14        5786918      F 2016-06-08 09:04:18+00:00   \n",
       "\n",
       "                        AppointmentDay  Age      Neighbourhood  \\\n",
       "PatientId                                                        \n",
       "7.184428e+13 2016-04-29 00:00:00+00:00    0          CONQUISTA   \n",
       "2.366233e+14 2016-04-29 00:00:00+00:00    0       SÃO BENEDITO   \n",
       "1.885174e+14 2016-04-29 00:00:00+00:00    0  ILHA DAS CAIEIRAS   \n",
       "2.718818e+14 2016-04-29 00:00:00+00:00    0          CONQUISTA   \n",
       "8.647128e+13 2016-04-29 00:00:00+00:00    0     NOVA PALESTINA   \n",
       "...                                ...  ...                ...   \n",
       "1.473952e+14 2016-06-01 00:00:00+00:00    0        RESISTÊNCIA   \n",
       "5.577525e+12 2016-06-08 00:00:00+00:00    0        RESISTÊNCIA   \n",
       "6.142460e+11 2016-06-03 00:00:00+00:00    0        RESISTÊNCIA   \n",
       "4.321846e+13 2016-06-03 00:00:00+00:00    0        RESISTÊNCIA   \n",
       "4.769462e+14 2016-06-08 00:00:00+00:00    0        MARIA ORTIZ   \n",
       "\n",
       "              MedicalAssistance  Hipertension  Diabetes  Alcoholism No-show  \n",
       "PatientId                                                                    \n",
       "7.184428e+13                  0             0         0           0      No  \n",
       "2.366233e+14                  0             0         0           0      No  \n",
       "1.885174e+14                  0             0         0           0      No  \n",
       "2.718818e+14                  0             0         0           0      No  \n",
       "8.647128e+13                  0             0         0           0      No  \n",
       "...                         ...           ...       ...         ...     ...  \n",
       "1.473952e+14                  0             0         0           0      No  \n",
       "5.577525e+12                  0             0         0           0      No  \n",
       "6.142460e+11                  0             0         0           0      No  \n",
       "4.321846e+13                  0             0         0           0      No  \n",
       "4.769462e+14                  0             0         0           0      No  \n",
       "\n",
       "[3540 rows x 11 columns]"
      ]
     },
     "execution_count": 10,
     "metadata": {},
     "output_type": "execute_result"
    }
   ],
   "source": [
    "# Display ages written in negatives, to remove them\n",
    "impossible_ages = df.query('Age<1')\n",
    "impossible_ages"
   ]
  },
  {
   "cell_type": "markdown",
   "metadata": {},
   "source": [
    "Here we found 3540 entries for people having ages less than one year!!, so we need to remove them all."
   ]
  },
  {
   "cell_type": "code",
   "execution_count": 11,
   "metadata": {},
   "outputs": [
    {
     "data": {
      "text/plain": [
       "1"
      ]
     },
     "execution_count": 11,
     "metadata": {},
     "output_type": "execute_result"
    }
   ],
   "source": [
    "# Keep only people with ages greater than or equal one year\n",
    "df = df[df['Age']>=1]\n",
    "# Assert that data only contains logical ages\n",
    "df['Age'].min()"
   ]
  },
  {
   "cell_type": "markdown",
   "metadata": {},
   "source": [
    "Now we have a youngest patient age equals one year, acceptable result."
   ]
  },
  {
   "cell_type": "code",
   "execution_count": 12,
   "metadata": {},
   "outputs": [
    {
     "data": {
      "text/plain": [
       "0"
      ]
     },
     "execution_count": 12,
     "metadata": {},
     "output_type": "execute_result"
    }
   ],
   "source": [
    "# confirm that there're no duplicates, again\n",
    "sum(df.duplicated())"
   ]
  },
  {
   "cell_type": "code",
   "execution_count": 13,
   "metadata": {},
   "outputs": [
    {
     "data": {
      "text/plain": [
       "0"
      ]
     },
     "execution_count": 13,
     "metadata": {},
     "output_type": "execute_result"
    }
   ],
   "source": [
    "# assert that there're no nans\n",
    "df.isnull().any(axis=1).sum()"
   ]
  },
  {
   "cell_type": "markdown",
   "metadata": {},
   "source": [
    "<a id='eda'></a>\n",
    "## Exploratory Data Analysis\n",
    "\n",
    "### Research Question 1 (what are the most important common factor exist in patients always care about attending their scheduled medical day?)"
   ]
  },
  {
   "cell_type": "markdown",
   "metadata": {},
   "source": [
    "First we're going to check whether their gender affect their attendance, males or females attend more?"
   ]
  },
  {
   "cell_type": "code",
   "execution_count": 14,
   "metadata": {},
   "outputs": [
    {
     "data": {
      "image/png": "[encoded data removed]",
      "text/plain": [
       "<Figure size 432x288 with 1 Axes>"
      ]
     },
     "metadata": {
      "needs_background": "light"
     },
     "output_type": "display_data"
    }
   ],
   "source": [
    "# use seaborn's countplot to specify which gender cares about its medical day\n",
    "sns.countplot(data=df, x='Gender', hue='No-show')\n",
    "plt.ylabel('Counts of Patients')\n",
    "plt.title('Relation between Patients Gender & Medical Care')\n",
    "plt.show()"
   ]
  },
  {
   "cell_type": "markdown",
   "metadata": {},
   "source": [
    "It's clear that females care more than males about attending their medical day; it's popular in most countries not only regions that females care about their health than males."
   ]
  },
  {
   "cell_type": "markdown",
   "metadata": {},
   "source": [
    "Is being young or old affects people attendance & careness about their health?"
   ]
  },
  {
   "cell_type": "code",
   "execution_count": 15,
   "metadata": {},
   "outputs": [
    {
     "data": {
      "image/png": "[encoded data removed]",
      "text/plain": [
       "<Figure size 360x360 with 1 Axes>"
      ]
     },
     "metadata": {
      "needs_background": "light"
     },
     "output_type": "display_data"
    }
   ],
   "source": [
    "# use seaborn's box plot to check the average of ages who attends or not, exploring their percentages\n",
    "sns.catplot(data=df, x='No-show', y='Age', kind='box')\n",
    "plt.title('Patients Ages & Their Medical Attendance')\n",
    "plt.show()"
   ]
  },
  {
   "cell_type": "markdown",
   "metadata": {},
   "source": [
    "From the above box plot it's clear that both people ages who attend or not are nearily similar, i predict that their ages don't affect their attendance."
   ]
  },
  {
   "cell_type": "markdown",
   "metadata": {},
   "source": [
    "Is being hipertension patient, affects patient to attend more or not?"
   ]
  },
  {
   "cell_type": "code",
   "execution_count": 16,
   "metadata": {},
   "outputs": [
    {
     "data": {
      "image/png": "[encoded data removed]",
      "text/plain": [
       "<Figure size 432x288 with 1 Axes>"
      ]
     },
     "metadata": {
      "needs_background": "light"
     },
     "output_type": "display_data"
    }
   ],
   "source": [
    "# use seaborn's countplot to see if being hipertension patient affects\n",
    "sns.countplot(data=df, x='Hipertension', hue='No-show')\n",
    "plt.ylabel('Counts of Patients')\n",
    "plt.xticks([0,1], ['Non_hiper', 'Hiper'])\n",
    "plt.title('Being Hipertension Patient Affects Attendance')\n",
    "plt.show()"
   ]
  },
  {
   "cell_type": "markdown",
   "metadata": {},
   "source": [
    "In the above graph it's clear that non_hipertension patients most attend their medical appointments than hipertension ones; i predict that being hipertension or not is an important factor."
   ]
  },
  {
   "cell_type": "markdown",
   "metadata": {},
   "source": [
    "Let's explore whether being diabetec or not affect attendance?"
   ]
  },
  {
   "cell_type": "code",
   "execution_count": 17,
   "metadata": {},
   "outputs": [
    {
     "data": {
      "image/png": "[encoded data removed]",
      "text/plain": [
       "<Figure size 432x288 with 1 Axes>"
      ]
     },
     "metadata": {
      "needs_background": "light"
     },
     "output_type": "display_data"
    }
   ],
   "source": [
    "# use seaborn's countplot to check, if being diabetes affect\n",
    "sns.countplot(data=df, x='Diabetes', hue='No-show')\n",
    "plt.ylabel('Counts of Patients')\n",
    "plt.xticks([0, 1], ['non_diabetec', 'diabetec'])\n",
    "plt.title('Being Diabetec Affects Medical Attendance')\n",
    "plt.show()"
   ]
  },
  {
   "cell_type": "markdown",
   "metadata": {},
   "source": [
    "It's also obviously clear that being non_diabetec patient, leads to more medical attendance."
   ]
  },
  {
   "cell_type": "markdown",
   "metadata": {},
   "source": [
    "Alcoholism affects patients attendance? let's explore that:"
   ]
  },
  {
   "cell_type": "code",
   "execution_count": 18,
   "metadata": {},
   "outputs": [
    {
     "data": {
      "image/png": "[encoded data removed]",
      "text/plain": [
       "<Figure size 432x288 with 1 Axes>"
      ]
     },
     "metadata": {
      "needs_background": "light"
     },
     "output_type": "display_data"
    }
   ],
   "source": [
    "# use seaborn's countplot to check count of alcoholism patients\n",
    "sns.countplot(data=df, x='Alcoholism', hue='No-show')\n",
    "plt.ylabel('Counts of Patients')\n",
    "plt.xticks([0, 1], ['non_alcoholism', 'alcoholism'])\n",
    "plt.title('Alcoholism Effect Due to Medical Appointments')\n",
    "plt.show()"
   ]
  },
  {
   "cell_type": "markdown",
   "metadata": {},
   "source": [
    "From the above graphs; it's obvious that the most important factor that prevent patients to attend their medical appointments, among the three studied diseases is Alcoholism."
   ]
  },
  {
   "cell_type": "markdown",
   "metadata": {},
   "source": [
    "Let's have a look at their locations, being in a specific region maybe near to the medical appointment place, affects their attendance & encourage people to attend more?"
   ]
  },
  {
   "cell_type": "code",
   "execution_count": 19,
   "metadata": {},
   "outputs": [
    {
     "name": "stdout",
     "output_type": "stream",
     "text": [
      "Most patients region that attend their scheduled medical appointments come from JARDIM CAMBURI & they're 6154 patients.\n"
     ]
    }
   ],
   "source": [
    "# specify patients whom attend their medical appointments\n",
    "medical_attend = df[df['No-show']=='No']\n",
    "\n",
    "# find most patients region come from to attend their medical appointments & its patients count\n",
    "max_region = medical_attend['Neighbourhood'].value_counts().idxmax()\n",
    "max_region_count = medical_attend['Neighbourhood'].value_counts().max()\n",
    "\n",
    "# print the result in a readable phrase\n",
    "print(\"Most patients region that attend their scheduled medical appointments come from {} & they're {} patients.\".format(max_region, max_region_count))"
   ]
  },
  {
   "cell_type": "code",
   "execution_count": 20,
   "metadata": {},
   "outputs": [
    {
     "name": "stdout",
     "output_type": "stream",
     "text": [
      "Only 1 patient comes from PARQUE INDUSTRIAL to attend hir/her medical appointment.\n"
     ]
    }
   ],
   "source": [
    "# find least patients region come from to attend their medical appointments as well\n",
    "min_region = medical_attend['Neighbourhood'].value_counts().idxmin()\n",
    "min_region_count = medical_attend['Neighbourhood'].value_counts().min()\n",
    "\n",
    "# print the other result in a readable phrase\n",
    "print(\"Only {} patient comes from {} to attend hir/her medical appointment.\".format(min_region_count, min_region))"
   ]
  },
  {
   "cell_type": "code",
   "execution_count": 21,
   "metadata": {},
   "outputs": [
    {
     "name": "stdout",
     "output_type": "stream",
     "text": [
      "Most patients who don't attend their medical appointments come from JARDIM CAMBURI & they're 1432 patients.\n"
     ]
    }
   ],
   "source": [
    "# specify patients whom don't attend their medical appointments as well\n",
    "no_medical_attend = df[df['No-show']=='Yes']\n",
    "\n",
    "# find region that most patients don't come to attend their medical appointments & its patients count also\n",
    "max_region_no = no_medical_attend['Neighbourhood'].value_counts().idxmax()\n",
    "max_region_count_no = no_medical_attend['Neighbourhood'].value_counts().max()\n",
    "\n",
    "# print the other result in a readable phrase\n",
    "print(\"Most patients who don't attend their medical appointments come from {} & they're {} patients.\".format(max_region_no, max_region_count_no))"
   ]
  },
  {
   "cell_type": "code",
   "execution_count": 22,
   "metadata": {},
   "outputs": [
    {
     "name": "stdout",
     "output_type": "stream",
     "text": [
      "Least number of patients region that don't attend their scheduled appointments come from AEROPORTO & that is only 1 patient.\n"
     ]
    }
   ],
   "source": [
    "# find the region that least number of patients don't attend their medical appointments as well\n",
    "min_region_no = no_medical_attend['Neighbourhood'].value_counts().idxmin()\n",
    "min_region_count_no = no_medical_attend['Neighbourhood'].value_counts().min()\n",
    "print(\"Least number of patients region that don't attend their scheduled appointments come from {} & that is only {} patient.\".format(min_region_no, min_region_count_no))"
   ]
  },
  {
   "cell_type": "markdown",
   "metadata": {},
   "source": [
    "From the above, i predict that patients regions affects their attendance, maybe Jardim Camburi region is near to the place of attending the medical appointment."
   ]
  },
  {
   "cell_type": "markdown",
   "metadata": {},
   "source": [
    "### Research Question 2  (Let's explore if patients who get Bolsa familia welfare aid attend more?)"
   ]
  },
  {
   "cell_type": "code",
   "execution_count": 23,
   "metadata": {},
   "outputs": [
    {
     "data": {
      "image/png": "[encoded data removed]",
      "text/plain": [
       "<Figure size 432x288 with 1 Axes>"
      ]
     },
     "metadata": {
      "needs_background": "light"
     },
     "output_type": "display_data"
    }
   ],
   "source": [
    "# use seaborn's countplot to explore data, setting x_ticks to whom share Bolsa familia\n",
    "# & others who don't share in Bolsa familia aid\n",
    "sns.countplot(data=df, x='MedicalAssistance', hue='No-show')\n",
    "plt.ylabel('Counts of Patients')\n",
    "plt.xticks([0,1], ['no_aid', 'aid'])\n",
    "plt.title('Bolsa Familia Aid Effect Due to Medical Attendance')\n",
    "plt.show()"
   ]
  },
  {
   "cell_type": "markdown",
   "metadata": {},
   "source": [
    "The answer is no!! for patients having Bolsa familia aid didn't lead to increase in their numbers, while attending medical appointments in our data set for specific regions."
   ]
  },
  {
   "cell_type": "markdown",
   "metadata": {},
   "source": [
    "<a id='conclusions'></a>\n",
    "## Conclusions"
   ]
  },
  {
   "cell_type": "markdown",
   "metadata": {},
   "source": [
    "Through this dataset:"
   ]
  },
  {
   "cell_type": "markdown",
   "metadata": {},
   "source": [
    "1)Brazilian females patients attend their medical appointments than men."
   ]
  },
  {
   "cell_type": "markdown",
   "metadata": {},
   "source": [
    "2)Alcoholism is an important factor results in that patients don't attend their medical appointments,being diabetec affects and then hipertension disease as well."
   ]
  },
  {
   "cell_type": "markdown",
   "metadata": {},
   "source": [
    "3)Most patients that attend their appointments are from Jardim Camburi region"
   ]
  },
  {
   "cell_type": "markdown",
   "metadata": {},
   "source": [
    "4)Finally, being a member in the Bolsa familia welfare aid didn't affect patients attendance."
   ]
  },
  {
   "cell_type": "markdown",
   "metadata": {},
   "source": [
    "Absolutely, if we've had more data about how many kilometers are between each Brazilian region & the medical appointment clinic, we can explore whether Jardin Camburi region is the nearest region, so near regions faciliate & encourage patients to attend more their appointments."
   ]
  },
  {
   "cell_type": "markdown",
   "metadata": {},
   "source": [
    "If we've had data sets about patients whom have done operations or not, so we can explore whether patients did operations, care more to attend their medical appointments or not."
   ]
  },
  {
   "cell_type": "markdown",
   "metadata": {},
   "source": [
    "More patients health data sets criterias will be more helpful; like kidney disease history, heart , liver, cancer,etc."
   ]
  },
  {
   "cell_type": "markdown",
   "metadata": {},
   "source": [
    "Also, adding data about if they're from special needs or not, will be useful as well."
   ]
  },
  {
   "cell_type": "markdown",
   "metadata": {},
   "source": [
    "A great data additioin is knowing whether patients vaccinated or not from different diseases vaccines, so we can explore the importance of being vaccinated & other factors."
   ]
  },
  {
   "cell_type": "markdown",
   "metadata": {},
   "source": [
    "Finally, from my point of view it's so important to have more data sets measure the success of these medical appointments, such as measuring patients whom care to attend their appointments had progress in their healths or not, then we can predict if these medical appointments need improvements or not."
   ]
  },
  {
   "cell_type": "markdown",
   "metadata": {},
   "source": [
    "<a id='limitations'></a>\n",
    "### Limitations"
   ]
  },
  {
   "cell_type": "markdown",
   "metadata": {},
   "source": [
    "Brazil population is over 2 million, so Bolsa familia non effectiveness here due to small data; it's unfair to judge Bolsa familia welfare program progress; hence it has been mentioned as one factor contributing to the reduction of poverty in Brazil in 2008."
   ]
  },
  {
   "cell_type": "markdown",
   "metadata": {},
   "source": [
    "Data sets for only three patients diseases are not enough; to be used to explore human health fairly."
   ]
  },
  {
   "cell_type": "markdown",
   "metadata": {},
   "source": [
    "Mentioning the nature of the medical appointment is important; if it's a clinic, hospital or a mobile medical service."
   ]
  },
  {
   "cell_type": "markdown",
   "metadata": {},
   "source": [
    "<a id='references'></a>\n",
    "#### References:"
   ]
  },
  {
   "cell_type": "markdown",
   "metadata": {},
   "source": [
    "Google search, github, wikipedia & datacamp.com"
   ]
  },
  {
   "cell_type": "markdown",
   "metadata": {},
   "source": [
    "My Udacity's first review"
   ]
  }
 ],
 "metadata": {
  "kernelspec": {
   "display_name": "Python 3 (ipykernel)",
   "language": "python",
   "name": "python3"
  },
  "language_info": {
   "codemirror_mode": {
    "name": "ipython",
    "version": 3
   },
   "file_extension": ".py",
   "mimetype": "text/x-python",
   "name": "python",
   "nbconvert_exporter": "python",
   "pygments_lexer": "ipython3",
   "version": "3.9.7"
  }
 },
 "nbformat": 4,
 "nbformat_minor": 2
}
